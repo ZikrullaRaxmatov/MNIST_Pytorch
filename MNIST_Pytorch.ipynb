{
  "nbformat": 4,
  "nbformat_minor": 0,
  "metadata": {
    "colab": {
      "provenance": [],
      "gpuType": "T4",
      "authorship_tag": "ABX9TyN8AnYvJO4ageSLvwxzoD5e",
      "include_colab_link": true
    },
    "kernelspec": {
      "name": "python3",
      "display_name": "Python 3"
    },
    "language_info": {
      "name": "python"
    },
    "accelerator": "GPU"
  },
  "cells": [
    {
      "cell_type": "markdown",
      "metadata": {
        "id": "view-in-github",
        "colab_type": "text"
      },
      "source": [
        "<a href=\"https://colab.research.google.com/github/ZikrullaRaxmatov/AI_Pytorch_Keras/blob/main/MNIST_Pytorch.ipynb\" target=\"_parent\"><img src=\"https://colab.research.google.com/assets/colab-badge.svg\" alt=\"Open In Colab\"/></a>"
      ]
    },
    {
      "cell_type": "markdown",
      "source": [
        "# Template\n",
        "1. import libraries\n",
        "2. dataset load\n",
        "3. data preparation / procces\n",
        "4. model create\n",
        "5. train the model\n",
        "6. predict (with test dataset)\n",
        "7. evaluate the model"
      ],
      "metadata": {
        "id": "jhxwyRJRg4AK"
      }
    },
    {
      "cell_type": "code",
      "execution_count": 63,
      "metadata": {
        "id": "TiBxDh9CT8DK"
      },
      "outputs": [],
      "source": [
        "# import libraries\n",
        "import numpy as np\n",
        "import pandas as pd\n",
        "\n",
        "import torch\n",
        "from torch.utils.data import DataLoader, Dataset\n",
        "from torchvision.transforms import transforms"
      ]
    },
    {
      "cell_type": "code",
      "source": [
        "# dataset load\n",
        "class MNISTDataset(Dataset):\n",
        "  def __init__(self, csv_file, transform = None):\n",
        "    self.data = pd.read_csv(csv_file).values\n",
        "    self.transform = transform\n",
        "\n",
        "  def __len__(self):\n",
        "    return len(self.data)\n",
        "\n",
        "  def __getitem__(self, idx):\n",
        "    img = self.data[idx, 1:].astype(np.uint8).reshape(28, 28, 1)\n",
        "    label = self.data[idx, 0].astype(np.int64)\n",
        "    if self.transform:\n",
        "      img = self.transform(img)\n",
        "    return img, label\n",
        "\n"
      ],
      "metadata": {
        "id": "itmK9t5TUVzb"
      },
      "execution_count": 64,
      "outputs": []
    },
    {
      "cell_type": "code",
      "source": [
        "# data preparation / proccesing\n",
        "transform = transforms.Compose([transforms.ToTensor(), transforms.Normalize(mean=0.5, std=0.5)])\n",
        "\n",
        "train_dataset = MNISTDataset('./sample_data/mnist_train_small.csv', transform=transform)\n",
        "test_dataset = MNISTDataset('./sample_data/mnist_test.csv', transform=transform)\n",
        "\n",
        "train_loader = DataLoader(train_dataset, batch_size=32, shuffle=True)\n",
        "test_loader = DataLoader(test_dataset, batch_size=32, shuffle=False)\n",
        "\n"
      ],
      "metadata": {
        "id": "7Tl-Hr4-UVwl"
      },
      "execution_count": 65,
      "outputs": []
    },
    {
      "cell_type": "code",
      "source": [
        "train_dataset.data.shape\n"
      ],
      "metadata": {
        "colab": {
          "base_uri": "https://localhost:8080/"
        },
        "id": "6PdWYVoVj2af",
        "outputId": "b869aaf3-e67b-439c-a30d-7e53cd007c68"
      },
      "execution_count": 19,
      "outputs": [
        {
          "output_type": "execute_result",
          "data": {
            "text/plain": [
              "(19999, 785)"
            ]
          },
          "metadata": {},
          "execution_count": 19
        }
      ]
    },
    {
      "cell_type": "code",
      "source": [
        "for img, label in train_loader:\n",
        "  print(img.shape)\n",
        "  break"
      ],
      "metadata": {
        "colab": {
          "base_uri": "https://localhost:8080/"
        },
        "id": "ku9kOqz3gUqo",
        "outputId": "97e839a9-3b84-4c23-c3b0-3a95947d64d5"
      },
      "execution_count": 15,
      "outputs": [
        {
          "output_type": "stream",
          "name": "stdout",
          "text": [
            "torch.Size([64, 1, 28, 28])\n"
          ]
        }
      ]
    },
    {
      "cell_type": "code",
      "source": [
        "#model create\n",
        "class CNNPytorch(torch.nn.Module):\n",
        "  def __init__(self, num_classes = 10):\n",
        "    super(CNNPytorch, self).__init__()\n",
        "    self.conv1 = torch.nn.Conv2d(1, 32, kernel_size=3)\n",
        "    self.conv2 = torch.nn.Conv2d(32, 64, kernel_size=3)\n",
        "    self.pool = torch.nn.MaxPool2d(kernel_size=2)\n",
        "    self.flatten = torch.nn.Flatten()\n",
        "    self.dropout = torch.nn.Dropout(p=0.3)\n",
        "    self.fc = torch.nn.Linear(64*5*5, num_classes)\n",
        "\n",
        "  def forward(self, x):\n",
        "    x = self.pool(torch.relu(self.conv1(x)))\n",
        "    x = self.pool(torch.relu(self.conv2(x)))\n",
        "    x = self.flatten(x)\n",
        "    x = self.dropout(x)\n",
        "    x = self.fc(x)\n",
        "    return torch.softmax(x, dim=1)\n",
        "\n",
        "\n",
        "model = CNNPytorch()\n",
        "device = torch.device(\"cuda\" if torch.cuda.is_available() else \"cpu\")\n",
        "model.to(device)\n",
        "print(f\"Model is running on: {device}\")\n",
        "criterion = torch.nn.CrossEntropyLoss()\n",
        "optimizer = torch.optim.Adam(model.parameters(), lr=0.001)\n"
      ],
      "metadata": {
        "id": "HqfIV8cogUoR",
        "colab": {
          "base_uri": "https://localhost:8080/"
        },
        "outputId": "925ea2c1-b9d3-409c-c18d-5b34c0fa9124"
      },
      "execution_count": 66,
      "outputs": [
        {
          "output_type": "stream",
          "name": "stdout",
          "text": [
            "Model is running on: cuda\n"
          ]
        }
      ]
    },
    {
      "cell_type": "code",
      "source": [
        "model"
      ],
      "metadata": {
        "colab": {
          "base_uri": "https://localhost:8080/"
        },
        "id": "_6Uc5kEegUlu",
        "outputId": "cd839bb8-93f4-4845-f45e-43bcde3684c3"
      },
      "execution_count": 18,
      "outputs": [
        {
          "output_type": "execute_result",
          "data": {
            "text/plain": [
              "CNNPytorch(\n",
              "  (conv1): Conv2d(1, 32, kernel_size=(3, 3), stride=(1, 1))\n",
              "  (conv2): Conv2d(32, 64, kernel_size=(3, 3), stride=(1, 1))\n",
              "  (pool): MaxPool2d(kernel_size=2, stride=2, padding=0, dilation=1, ceil_mode=False)\n",
              "  (flatten): Flatten(start_dim=1, end_dim=-1)\n",
              "  (fc): Linear(in_features=1600, out_features=10, bias=True)\n",
              ")"
            ]
          },
          "metadata": {},
          "execution_count": 18
        }
      ]
    },
    {
      "cell_type": "code",
      "source": [
        "# train the model\n",
        "#optimizer = torch.optim.Adam(model.parameters(), lr=0.0001)\n",
        "epochs = 15\n",
        "for epoch in range(epochs):\n",
        "  model.train()\n",
        "\n",
        "  running_loss = 0.\n",
        "  correct = 0\n",
        "  total = 0\n",
        "\n",
        "  for epoch_idx, (images, labels) in enumerate(train_loader):\n",
        "    images, labels = images.to(device), labels.to(device)\n",
        "    optimizer.zero_grad()\n",
        "    outputs = model(images)\n",
        "    loss = criterion(outputs, labels)\n",
        "    loss.backward()\n",
        "    optimizer.step()\n",
        "\n",
        "    running_loss += loss.item()\n",
        "    _, predicts = torch.max(outputs, 1)\n",
        "    total += labels.size(0)\n",
        "    correct += (predicts == labels).sum().item()\n",
        "\n",
        "    if (epoch_idx + 1) % 624 == 0:\n",
        "      print(f\"Epochs: {epoch+1} / {epochs}\")\n",
        "      print(f\"loss: {running_loss/100:.4f} - accuracy: {correct/total:.4f}\")\n",
        "\n",
        "      running_loss = 0.\n",
        "      correct = 0\n",
        "      total = 0\n"
      ],
      "metadata": {
        "id": "YTr8X5bInn3q",
        "colab": {
          "base_uri": "https://localhost:8080/"
        },
        "outputId": "a284319d-f850-4a32-b3d7-0bab63c3b1ed"
      },
      "execution_count": 69,
      "outputs": [
        {
          "output_type": "stream",
          "name": "stdout",
          "text": [
            "Epochs: 1 / 15\n",
            "loss: 9.1764 - accuracy: 0.9908\n",
            "Epochs: 2 / 15\n",
            "loss: 9.1709 - accuracy: 0.9915\n",
            "Epochs: 3 / 15\n",
            "loss: 9.1678 - accuracy: 0.9920\n",
            "Epochs: 4 / 15\n",
            "loss: 9.1656 - accuracy: 0.9922\n",
            "Epochs: 5 / 15\n",
            "loss: 9.1653 - accuracy: 0.9923\n",
            "Epochs: 6 / 15\n",
            "loss: 9.1588 - accuracy: 0.9936\n",
            "Epochs: 7 / 15\n",
            "loss: 9.1568 - accuracy: 0.9939\n",
            "Epochs: 8 / 15\n",
            "loss: 9.1556 - accuracy: 0.9940\n",
            "Epochs: 9 / 15\n",
            "loss: 9.1551 - accuracy: 0.9943\n",
            "Epochs: 10 / 15\n",
            "loss: 9.1549 - accuracy: 0.9943\n",
            "Epochs: 11 / 15\n",
            "loss: 9.1575 - accuracy: 0.9937\n",
            "Epochs: 12 / 15\n",
            "loss: 9.1554 - accuracy: 0.9940\n",
            "Epochs: 13 / 15\n",
            "loss: 9.1516 - accuracy: 0.9948\n",
            "Epochs: 14 / 15\n",
            "loss: 9.1509 - accuracy: 0.9949\n",
            "Epochs: 15 / 15\n",
            "loss: 9.1506 - accuracy: 0.9949\n"
          ]
        }
      ]
    },
    {
      "cell_type": "code",
      "source": [
        "# evaluate the model\n",
        "model.eval()\n",
        "correct = 0\n",
        "total = 0\n",
        "with torch.no_grad():\n",
        "  for images, labels in test_loader:\n",
        "    images, labels = images.to(device), labels.to(device)\n",
        "    outputs = model(images)\n",
        "    _, predicts = torch.max(outputs, 1)\n",
        "    total += labels.size(0)\n",
        "    correct += (predicts == labels).sum().item()\n",
        "\n",
        "accuracy = correct / total * 100\n",
        "print(f\"Accuracy: {accuracy:.2f} %\")\n"
      ],
      "metadata": {
        "id": "GIsqdJBPnnzk",
        "colab": {
          "base_uri": "https://localhost:8080/"
        },
        "outputId": "e0d62162-8fb3-4109-c10b-162015ce334b"
      },
      "execution_count": 70,
      "outputs": [
        {
          "output_type": "stream",
          "name": "stdout",
          "text": [
            "Accuracy: 98.94 %\n"
          ]
        }
      ]
    },
    {
      "cell_type": "markdown",
      "source": [
        "# Accuracy report\n",
        "\n",
        "1. SGD(lr=0.01)      : 96.17 %\n",
        "2. SGD(momentum=0.3) : 96.68 %\n",
        "3. Adagrad(lr=0.01)  : 98.35 %\n",
        "4. RMSProp(lr=0.001) : 98.47 %\n",
        "5. Adam(lr=0.001)    : 98.58 %\n",
        "\n",
        "## with dropout\n",
        "Adam(dropout=0.3)    : 98.61 %\n",
        "\n",
        "## with transfer learning\n",
        "Adam(lr=0.0001)      : 98.94 %"
      ],
      "metadata": {
        "id": "fd1crrmsH93L"
      }
    }
  ]
}